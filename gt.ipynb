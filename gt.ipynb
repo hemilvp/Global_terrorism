{
 "cells": [
  {
   "cell_type": "code",
   "execution_count": null,
   "metadata": {},
   "outputs": [],
   "source": [
    "import pandas as pd\n",
    "import matplotlib.pyplot as plt\n",
    "import seaborn as sns"
   ]
  },
  {
   "cell_type": "code",
   "execution_count": null,
   "metadata": {},
   "outputs": [],
   "source": [
    "data = pd.read_csv('gtc.csv',encoding='ISO-8859-1')"
   ]
  },
  {
   "cell_type": "code",
   "execution_count": null,
   "metadata": {},
   "outputs": [],
   "source": [
    "print(data.head(10))"
   ]
  },
  {
   "cell_type": "code",
   "execution_count": null,
   "metadata": {},
   "outputs": [],
   "source": [
    "data.shape"
   ]
  },
  {
   "cell_type": "code",
   "execution_count": null,
   "metadata": {},
   "outputs": [],
   "source": [
    "print(data.info())"
   ]
  },
  {
   "cell_type": "code",
   "execution_count": null,
   "metadata": {},
   "outputs": [],
   "source": [
    "print(data.corr())"
   ]
  },
  {
   "cell_type": "code",
   "execution_count": null,
   "metadata": {},
   "outputs": [],
   "source": [
    "data.columns"
   ]
  },
  {
   "cell_type": "code",
   "execution_count": null,
   "metadata": {},
   "outputs": [],
   "source": [
    "data.rename(columns={'iyear':'Year','imonth':'Month','iday':'Day','country_txt':'Country','provstate':'State','region_txt':'Region','attacktype1_txt':'AttackType','target1':'Targeted','nkill':'No.of.Kill','nwound':'No.of.Wounded','gname':'Gang','targtype1_txt':\n",
    "    'Target_type','weaptype1_txt':'Weapon_type','motive':'Motive'},inplace=True)"
   ]
  },
  {
   "cell_type": "code",
   "execution_count": null,
   "metadata": {},
   "outputs": [],
   "source": [
    "data = data[['Year','Month','Day','Country','State','Region','city','latitude','longitude','AttackType','No.of.Kill','No.of.Wounded','Targeted','Gang','Target_type','Weapon_type','Motive']]"
   ]
  },
  {
   "cell_type": "code",
   "execution_count": null,
   "metadata": {},
   "outputs": [],
   "source": [
    "data.head()"
   ]
  },
  {
   "cell_type": "code",
   "execution_count": null,
   "metadata": {},
   "outputs": [],
   "source": [
    "data.isnull().sum()"
   ]
  },
  {
   "cell_type": "code",
   "execution_count": null,
   "metadata": {},
   "outputs": [],
   "source": [
    "data.info()"
   ]
  },
  {
   "cell_type": "code",
   "execution_count": null,
   "metadata": {},
   "outputs": [],
   "source": [
    "#Most Attacked Country\n",
    "\n",
    "print(\"Most Attacked Country : \",data['Country'].value_counts().idxmax())"
   ]
  },
  {
   "cell_type": "code",
   "execution_count": null,
   "metadata": {},
   "outputs": [],
   "source": [
    "# Most Attacked city\n",
    "print(\"Most Attacked City : \",data['city'].value_counts().index[1])"
   ]
  },
  {
   "cell_type": "code",
   "execution_count": null,
   "metadata": {},
   "outputs": [],
   "source": [
    "# Most Attacked Region\n",
    "print(\"Most Attacked Region : \",data['Region'].value_counts().idxmax())"
   ]
  },
  {
   "cell_type": "code",
   "execution_count": null,
   "metadata": {},
   "outputs": [],
   "source": [
    "# Most Attacking Gang\n",
    "print(\"Most Attacking Gang : \",data['Gang'].value_counts().index[1])"
   ]
  },
  {
   "cell_type": "code",
   "execution_count": null,
   "metadata": {},
   "outputs": [],
   "source": [
    "Killdata = data.loc[:,'No.of.Kill']\n",
    "# print(Killdata)\n",
    "print('Number of people killed by terror attack : ',int(sum(Killdata.dropna())))"
   ]
  },
  {
   "cell_type": "code",
   "execution_count": null,
   "metadata": {},
   "outputs": [],
   "source": [
    "countrydata = data.loc[:,'Country']\n",
    "countrykilldata = pd.concat([countrydata,Killdata],axis=1)\n",
    "countrykilldata"
   ]
  },
  {
   "cell_type": "code",
   "execution_count": null,
   "metadata": {},
   "outputs": [],
   "source": [
    "countrykilldatatable = countrykilldata.pivot_table(columns='Country',values='No.of.Kill',aggfunc='sum')\n",
    "countrykilldatatable"
   ]
  },
  {
   "cell_type": "code",
   "execution_count": null,
   "metadata": {},
   "outputs": [],
   "source": [
    "X = data['Year'].unique()\n",
    "# print(X)\n",
    "Y = data['Year'].value_counts(dropna=False).sort_index()\n",
    "plt.figure(figsize=(20,10))\n",
    "sns.barplot(x=X,y=Y)\n",
    "plt.xticks(fontsize=14,rotation=80)\n",
    "plt.yticks(fontsize=14)\n",
    "plt.xlabel('Year of attacks',fontsize=14)\n",
    "plt.ylabel('No. of attacks per year',fontsize=14)\n",
    "plt.legend(labels = ['Number of attacks each year'])\n",
    "plt.title('year of attack vs. no. of attacks each year',fontsize=18)\n",
    "plt.show()\n"
   ]
  },
  {
   "cell_type": "code",
   "execution_count": null,
   "metadata": {},
   "outputs": [],
   "source": [
    "plt.subplots(figsize=(20,50))\n",
    "sns.barplot(x=data['Country'].index,y=data['Country'].values)\n",
    "plt.title('Countries Affected by Terror Attacks',fontsize=25)\n",
    "plt.ylabel('Countries',fontsize=20)\n",
    "plt.xlabel('Count',fontsize=20)\n",
    "plt.xticks(rotation=70)\n",
    "plt.yticks()\n",
    "plt.show()\n"
   ]
  },
  {
   "cell_type": "code",
   "execution_count": null,
   "metadata": {},
   "outputs": [],
   "source": [
    "pd.crosstab(data.Year, data.Region).plot(kind=\"area\",figsize=(14,10))\n",
    "# print(pd.crosstab(data.Year, data.Region))\n",
    "\n",
    "plt.legend()\n",
    "plt.title('Terrorist Activities by Region in each year')\n",
    "plt.ylabel('Number of Attacks')\n",
    "plt.show()"
   ]
  },
  {
   "cell_type": "code",
   "execution_count": null,
   "metadata": {},
   "outputs": [],
   "source": [
    "data.Country.value_counts()[:10]"
   ]
  },
  {
   "cell_type": "code",
   "execution_count": null,
   "metadata": {},
   "outputs": [],
   "source": [
    "plt.subplots(figsize=(8,10))\n",
    "A = data['Country'].value_counts()[:10].values\n",
    "B = data['Country'].value_counts()[:10].index\n",
    "sns.barplot(x=A, y=B, palette='cool')\n",
    "plt.title('Top Countries Affected')\n",
    "plt.xlabel('Count')\n",
    "plt.ylabel('Countries')\n",
    "plt.legend(labels=['Top Countries Affected'])\n",
    "plt.xticks(rotation=0)\n",
    "plt.show()"
   ]
  },
  {
   "cell_type": "code",
   "execution_count": null,
   "metadata": {},
   "outputs": [],
   "source": [
    "print(data.Gang.value_counts()[:5])\n",
    "print()\n",
    "print(data.Gang.value_counts()[1:10])"
   ]
  },
  {
   "cell_type": "code",
   "execution_count": null,
   "metadata": {},
   "outputs": [],
   "source": [
    "print(data['Gang'].isin(['Taliban']))\n",
    "Gang_in_Most1 = data[data['Gang'].isin(['Taliban'])]\n",
    "Gang_in_Most1['Country'].unique()"
   ]
  },
  {
   "cell_type": "code",
   "execution_count": null,
   "metadata": {},
   "outputs": [],
   "source": [
    "Gang_in_Most1['Region'].unique()"
   ]
  },
  {
   "cell_type": "code",
   "execution_count": null,
   "metadata": {},
   "outputs": [],
   "source": [
    "Gang_in_Most1['city'].unique()[1:5]"
   ]
  },
  {
   "cell_type": "code",
   "execution_count": null,
   "metadata": {},
   "outputs": [],
   "source": [
    "Gang_in_Most2 = data[data['Gang'].isin(['Islamic State of Iraq and the Levant (ISIL)'])]\n",
    "Gang_in_Most2['Country'].unique()"
   ]
  },
  {
   "cell_type": "code",
   "execution_count": null,
   "metadata": {},
   "outputs": [],
   "source": [
    "Gang_in_Most2['Region'].unique()"
   ]
  },
  {
   "cell_type": "code",
   "execution_count": null,
   "metadata": {},
   "outputs": [],
   "source": [
    "Gang_in_Most2['city'].unique()"
   ]
  },
  {
   "cell_type": "code",
   "execution_count": null,
   "metadata": {},
   "outputs": [],
   "source": [
    "Gang_in_Most3 = data[data['Gang'].isin(['Shining Path (SL)'])]\n",
    "Gang_in_Most3['Country'].unique()"
   ]
  },
  {
   "cell_type": "code",
   "execution_count": null,
   "metadata": {},
   "outputs": [],
   "source": [
    "Gang_in_Most3['Region'].unique()"
   ]
  },
  {
   "cell_type": "code",
   "execution_count": null,
   "metadata": {},
   "outputs": [],
   "source": [
    "Gang_in_Most3['city'].unique()"
   ]
  },
  {
   "cell_type": "code",
   "execution_count": null,
   "metadata": {},
   "outputs": [],
   "source": [
    "attacktype = data.loc[:,'AttackType']\n",
    "type_kill_data = pd.concat([attacktype,Killdata],axis=1)\n"
   ]
  },
  {
   "cell_type": "code",
   "execution_count": null,
   "metadata": {},
   "outputs": [],
   "source": [
    "kill_attacktype = type_kill_data.pivot_table(columns='AttackType', values='No.of.Kill',aggfunc='sum')\n",
    "kill_attacktype"
   ]
  },
  {
   "cell_type": "code",
   "execution_count": null,
   "metadata": {},
   "outputs": [],
   "source": [
    "labels = kill_attacktype.columns.tolist() # convert line to list\n",
    "print(labels)\n",
    "transpoze = kill_attacktype.T # transpoze\n",
    "print(transpoze)\n",
    "T_values = transpoze.values.tolist()\n",
    "T_values_1d = [value for sublist in T_values for value in sublist] # to convert 2d list into 1d list.\n",
    "print(T_values)\n",
    "fig , axe = plt.subplots(figsize=(15,15), subplot_kw=dict(aspect='equal'))\n",
    "plt.pie(T_values_1d, startangle=360,autopct='%.1f%%')\n",
    "plt.title('Types of terrorist attacks')\n",
    "plt.legend(labels, loc='lower right', bbox_to_anchor = (1.3,0.9), fontsize=15) # location legend\n",
    "plt.show() "
   ]
  },
  {
   "attachments": {},
   "cell_type": "markdown",
   "metadata": {},
   "source": [
    "Most Attack Type: Armed Assault, Bombing/Explosion, Assassination\n",
    "\n",
    "Most Attacking Gang : Taliban, Islamic State of Iraq and the Levant (ISIL) & Shining Path(SL)"
   ]
  },
  {
   "attachments": {},
   "cell_type": "markdown",
   "metadata": {},
   "source": [
    "CONCLUSION:\n",
    "\n",
    "Top Attacked Region : Middle East & North Africa (On the Basis of Gang Attack, Both Taliban & ISIL Attacked this Region).\n",
    "\n",
    "Top City Attacked : Baghdad(Capital of Iraq)\n",
    "\n",
    "Top Affected Countries: Iraq, Afghanistan, Pakistan, India, Colombia."
   ]
  }
 ],
 "metadata": {
  "kernelspec": {
   "display_name": "Python 3",
   "language": "python",
   "name": "python3"
  },
  "language_info": {
   "codemirror_mode": {
    "name": "ipython",
    "version": 3
   },
   "file_extension": ".py",
   "mimetype": "text/x-python",
   "name": "python",
   "nbconvert_exporter": "python",
   "pygments_lexer": "ipython3",
   "version": "3.10.6"
  },
  "orig_nbformat": 4,
  "vscode": {
   "interpreter": {
    "hash": "fbe58ca63fe33f9eeae9e71d10368d2b4a57f2b1b395836210cc60d362c66949"
   }
  }
 },
 "nbformat": 4,
 "nbformat_minor": 2
}
